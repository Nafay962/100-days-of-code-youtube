{
  "nbformat": 4,
  "nbformat_minor": 0,
  "metadata": {
    "colab": {
      "provenance": [],
      "authorship_tag": "ABX9TyMomdDEkTfb+d7Gja5rkUu1",
      "include_colab_link": true
    },
    "kernelspec": {
      "name": "python3",
      "display_name": "Python 3"
    },
    "language_info": {
      "name": "python"
    }
  },
  "cells": [
    {
      "cell_type": "markdown",
      "metadata": {
        "id": "view-in-github",
        "colab_type": "text"
      },
      "source": [
        "<a href=\"https://colab.research.google.com/github/Nafay962/100-days-of-code-youtube/blob/main/midlab_project.ipynb\" target=\"_parent\"><img src=\"https://colab.research.google.com/assets/colab-badge.svg\" alt=\"Open In Colab\"/></a>"
      ]
    },
    {
      "cell_type": "code",
      "execution_count": 2,
      "metadata": {
        "id": "Luek0-ejFXs5",
        "colab": {
          "base_uri": "https://localhost:8080/"
        },
        "outputId": "83743f67-1130-4fb8-a8a1-987937100823"
      },
      "outputs": [
        {
          "output_type": "stream",
          "name": "stdout",
          "text": [
            "......................................Welcome to Mid lab game.......................................\n",
            "Enter an adjective:mysterious\n",
            "Enter an noun:nafay\n",
            "Enter an verb:climb\n",
            "Enter another adjective:daring\n",
            "Enter another noun:ali\n",
            "Enter another verb:discover\n",
            "Once upon a time, in a mysterious jungle, a brave nafay\n",
            " set out on a journey to find the legendary treasure.\n",
            "Every day, they would climb through the dense trees and face daring challenges.\n",
            "One day, they encountered a mysterious ali who was always discover near an ancient temple.\n",
            "Together, they unlocked the secrets of the jungle and discovered the treasure, becoming legendary explorer!\n"
          ]
        }
      ],
      "source": [
        "str1=\"Welcome to Mid lab game\"\n",
        "print(str1.center(100,\".\"))\n",
        "\n",
        "adjective=input(\"Enter an adjective:\")\n",
        "noun=input(\"Enter an noun:\")\n",
        "verb=input(\"Enter an verb:\")\n",
        "adjective1=input(\"Enter another adjective:\")\n",
        "noun1=input(\"Enter another noun:\")\n",
        "verb1=input(\"Enter another verb:\")\n",
        "\n",
        "story=f\"\"\"Once upon a time, in a {adjective} jungle, a brave {noun}\n",
        " set out on a journey to find the legendary treasure.\\nEvery day, they would {verb} through the dense trees and face {adjective1} challenges.\\nOne day, they encountered a mysterious {noun1} who was always {verb1} near an ancient temple.\\nTogether, they unlocked the secrets of the jungle and discovered the treasure, becoming legendary explorer!\"\"\"\n",
        "print(story)"
      ]
    }
  ]
}